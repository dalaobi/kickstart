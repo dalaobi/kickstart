{
  "nbformat": 4,
  "nbformat_minor": 0,
  "metadata": {
    "colab": {
      "name": "term.ipynb",
      "provenance": [],
      "machine_shape": "hm"
    },
    "kernelspec": {
      "name": "python3",
      "display_name": "Python 3"
    }
  },
  "cells": [
    {
      "cell_type": "markdown",
      "metadata": {
        "id": "XH3vfalNVr3M",
        "colab_type": "text"
      },
      "source": [
        "# Readme\n",
        "i didn't done this on the github, because i just push it to colab.\n",
        "and u can just open the link to run the whole project \n",
        "https://colab.research.google.com/drive/1sdzln9IUD7AUtkxJ1U5SPrgQbP9mhOWC#scrollTo=XH3vfalNVr3M\n",
        "\n",
        "and all you have to do is open this link, and upload the dataset. \n",
        "then run all the code. \n",
        "\n"
      ]
    },
    {
      "cell_type": "code",
      "metadata": {
        "id": "1PDttl4HYI3p",
        "colab_type": "code",
        "colab": {
          "base_uri": "https://localhost:8080/",
          "height": 68
        },
        "outputId": "a5a01a04-e89a-4f1f-dbad-69a8601a30b8"
      },
      "source": [
        "import json\n",
        "import re\n",
        "from random import seed, randrange\n",
        "from math import log\n",
        "from sklearn.utils import shuffle\n",
        "import pandas as pd\n",
        "\n",
        "import nltk\n",
        "nltk.download(\"stopwords\")"
      ],
      "execution_count": 5,
      "outputs": [
        {
          "output_type": "stream",
          "text": [
            "[nltk_data] Downloading package stopwords to /root/nltk_data...\n",
            "[nltk_data]   Package stopwords is already up-to-date!\n"
          ],
          "name": "stdout"
        },
        {
          "output_type": "execute_result",
          "data": {
            "text/plain": [
              "True"
            ]
          },
          "metadata": {
            "tags": []
          },
          "execution_count": 5
        }
      ]
    },
    {
      "cell_type": "code",
      "metadata": {
        "id": "IkgatNm2WQ7H",
        "colab_type": "code",
        "colab": {
          "base_uri": "https://localhost:8080/",
          "height": 51
        },
        "outputId": "773bb08c-4e91-4141-c8ef-9f044450f20e"
      },
      "source": [
        "\n"
      ],
      "execution_count": 27,
      "outputs": [
        {
          "output_type": "stream",
          "text": [
            "/bin/bash: response-content-disposition=attachment%3B+filename%3Dbgg-13m-reviews.csv.zip: command not found\n",
            "<?xml version='1.0' encoding='UTF-8'?><Error><Code>AuthenticationRequired</Code><Message>Authentication required.</Message></Error>"
          ],
          "name": "stdout"
        }
      ]
    },
    {
      "cell_type": "markdown",
      "metadata": {
        "id": "jvYMq__B2FBG",
        "colab_type": "text"
      },
      "source": [
        "**import the data set**\n",
        "\n",
        "```\n",
        "```\n",
        "\n"
      ]
    },
    {
      "cell_type": "code",
      "metadata": {
        "id": "X_FEt8LKYNhh",
        "colab_type": "code",
        "colab": {
          "base_uri": "https://localhost:8080/",
          "height": 258
        },
        "outputId": "ef98b377-8707-45b0-b9b0-da9a3ab49780"
      },
      "source": [
        "df = pd.read_csv('bgg-13m-reviews.csv',index_col=0)\n",
        "df.head()"
      ],
      "execution_count": 29,
      "outputs": [
        {
          "output_type": "stream",
          "text": [
            "/usr/local/lib/python3.6/dist-packages/numpy/lib/arraysetops.py:569: FutureWarning: elementwise comparison failed; returning scalar instead, but in the future will perform elementwise comparison\n",
            "  mask |= (ar1 == a)\n"
          ],
          "name": "stderr"
        },
        {
          "output_type": "execute_result",
          "data": {
            "text/html": [
              "<div>\n",
              "<style scoped>\n",
              "    .dataframe tbody tr th:only-of-type {\n",
              "        vertical-align: middle;\n",
              "    }\n",
              "\n",
              "    .dataframe tbody tr th {\n",
              "        vertical-align: top;\n",
              "    }\n",
              "\n",
              "    .dataframe thead th {\n",
              "        text-align: right;\n",
              "    }\n",
              "</style>\n",
              "<table border=\"1\" class=\"dataframe\">\n",
              "  <thead>\n",
              "    <tr style=\"text-align: right;\">\n",
              "      <th></th>\n",
              "      <th>user</th>\n",
              "      <th>rating</th>\n",
              "      <th>comment</th>\n",
              "      <th>ID</th>\n",
              "      <th>name</th>\n",
              "    </tr>\n",
              "  </thead>\n",
              "  <tbody>\n",
              "    <tr>\n",
              "      <th>0</th>\n",
              "      <td>sidehacker</td>\n",
              "      <td>10.0</td>\n",
              "      <td>NaN</td>\n",
              "      <td>13</td>\n",
              "      <td>Catan</td>\n",
              "    </tr>\n",
              "    <tr>\n",
              "      <th>1</th>\n",
              "      <td>Varthlokkur</td>\n",
              "      <td>10.0</td>\n",
              "      <td>NaN</td>\n",
              "      <td>13</td>\n",
              "      <td>Catan</td>\n",
              "    </tr>\n",
              "    <tr>\n",
              "      <th>2</th>\n",
              "      <td>dougthonus</td>\n",
              "      <td>10.0</td>\n",
              "      <td>Currently, this sits on my list as my favorite...</td>\n",
              "      <td>13</td>\n",
              "      <td>Catan</td>\n",
              "    </tr>\n",
              "    <tr>\n",
              "      <th>3</th>\n",
              "      <td>cypar7</td>\n",
              "      <td>10.0</td>\n",
              "      <td>I know it says how many plays, but many, many ...</td>\n",
              "      <td>13</td>\n",
              "      <td>Catan</td>\n",
              "    </tr>\n",
              "    <tr>\n",
              "      <th>4</th>\n",
              "      <td>ssmooth</td>\n",
              "      <td>10.0</td>\n",
              "      <td>NaN</td>\n",
              "      <td>13</td>\n",
              "      <td>Catan</td>\n",
              "    </tr>\n",
              "  </tbody>\n",
              "</table>\n",
              "</div>"
            ],
            "text/plain": [
              "          user  rating  ...  ID   name\n",
              "0   sidehacker    10.0  ...  13  Catan\n",
              "1  Varthlokkur    10.0  ...  13  Catan\n",
              "2   dougthonus    10.0  ...  13  Catan\n",
              "3       cypar7    10.0  ...  13  Catan\n",
              "4      ssmooth    10.0  ...  13  Catan\n",
              "\n",
              "[5 rows x 5 columns]"
            ]
          },
          "metadata": {
            "tags": []
          },
          "execution_count": 29
        }
      ]
    },
    {
      "cell_type": "markdown",
      "metadata": {
        "id": "IdzkhFpH2Uiz",
        "colab_type": "text"
      },
      "source": [
        "**Data Preprocessing**"
      ]
    },
    {
      "cell_type": "code",
      "metadata": {
        "id": "Liu0vzC6YQYj",
        "colab_type": "code",
        "colab": {
          "base_uri": "https://localhost:8080/",
          "height": 297
        },
        "outputId": "81e23b8b-a11b-42e4-d91c-a9761f803a56"
      },
      "source": [
        "df = df.dropna()\n",
        "df.describe()"
      ],
      "execution_count": 30,
      "outputs": [
        {
          "output_type": "execute_result",
          "data": {
            "text/html": [
              "<div>\n",
              "<style scoped>\n",
              "    .dataframe tbody tr th:only-of-type {\n",
              "        vertical-align: middle;\n",
              "    }\n",
              "\n",
              "    .dataframe tbody tr th {\n",
              "        vertical-align: top;\n",
              "    }\n",
              "\n",
              "    .dataframe thead th {\n",
              "        text-align: right;\n",
              "    }\n",
              "</style>\n",
              "<table border=\"1\" class=\"dataframe\">\n",
              "  <thead>\n",
              "    <tr style=\"text-align: right;\">\n",
              "      <th></th>\n",
              "      <th>rating</th>\n",
              "      <th>ID</th>\n",
              "    </tr>\n",
              "  </thead>\n",
              "  <tbody>\n",
              "    <tr>\n",
              "      <th>count</th>\n",
              "      <td>2.637756e+06</td>\n",
              "      <td>2.637756e+06</td>\n",
              "    </tr>\n",
              "    <tr>\n",
              "      <th>mean</th>\n",
              "      <td>6.852070e+00</td>\n",
              "      <td>6.693990e+04</td>\n",
              "    </tr>\n",
              "    <tr>\n",
              "      <th>std</th>\n",
              "      <td>1.775769e+00</td>\n",
              "      <td>7.304447e+04</td>\n",
              "    </tr>\n",
              "    <tr>\n",
              "      <th>min</th>\n",
              "      <td>1.401300e-45</td>\n",
              "      <td>1.000000e+00</td>\n",
              "    </tr>\n",
              "    <tr>\n",
              "      <th>25%</th>\n",
              "      <td>6.000000e+00</td>\n",
              "      <td>3.955000e+03</td>\n",
              "    </tr>\n",
              "    <tr>\n",
              "      <th>50%</th>\n",
              "      <td>7.000000e+00</td>\n",
              "      <td>3.126000e+04</td>\n",
              "    </tr>\n",
              "    <tr>\n",
              "      <th>75%</th>\n",
              "      <td>8.000000e+00</td>\n",
              "      <td>1.296220e+05</td>\n",
              "    </tr>\n",
              "    <tr>\n",
              "      <th>max</th>\n",
              "      <td>1.000000e+01</td>\n",
              "      <td>2.724090e+05</td>\n",
              "    </tr>\n",
              "  </tbody>\n",
              "</table>\n",
              "</div>"
            ],
            "text/plain": [
              "             rating            ID\n",
              "count  2.637756e+06  2.637756e+06\n",
              "mean   6.852070e+00  6.693990e+04\n",
              "std    1.775769e+00  7.304447e+04\n",
              "min    1.401300e-45  1.000000e+00\n",
              "25%    6.000000e+00  3.955000e+03\n",
              "50%    7.000000e+00  3.126000e+04\n",
              "75%    8.000000e+00  1.296220e+05\n",
              "max    1.000000e+01  2.724090e+05"
            ]
          },
          "metadata": {
            "tags": []
          },
          "execution_count": 30
        }
      ]
    },
    {
      "cell_type": "code",
      "metadata": {
        "id": "t6Ejg3HCYSZR",
        "colab_type": "code",
        "colab": {
          "base_uri": "https://localhost:8080/",
          "height": 204
        },
        "outputId": "f8552d74-1656-441a-8936-15f2cfd81e27"
      },
      "source": [
        "reviews = df[['rating','comment']]\n",
        "reviews.head()"
      ],
      "execution_count": 8,
      "outputs": [
        {
          "output_type": "execute_result",
          "data": {
            "text/html": [
              "<div>\n",
              "<style scoped>\n",
              "    .dataframe tbody tr th:only-of-type {\n",
              "        vertical-align: middle;\n",
              "    }\n",
              "\n",
              "    .dataframe tbody tr th {\n",
              "        vertical-align: top;\n",
              "    }\n",
              "\n",
              "    .dataframe thead th {\n",
              "        text-align: right;\n",
              "    }\n",
              "</style>\n",
              "<table border=\"1\" class=\"dataframe\">\n",
              "  <thead>\n",
              "    <tr style=\"text-align: right;\">\n",
              "      <th></th>\n",
              "      <th>rating</th>\n",
              "      <th>comment</th>\n",
              "    </tr>\n",
              "  </thead>\n",
              "  <tbody>\n",
              "    <tr>\n",
              "      <th>2</th>\n",
              "      <td>10.0</td>\n",
              "      <td>Currently, this sits on my list as my favorite...</td>\n",
              "    </tr>\n",
              "    <tr>\n",
              "      <th>3</th>\n",
              "      <td>10.0</td>\n",
              "      <td>I know it says how many plays, but many, many ...</td>\n",
              "    </tr>\n",
              "    <tr>\n",
              "      <th>7</th>\n",
              "      <td>10.0</td>\n",
              "      <td>i will never tire of this game.. Awesome</td>\n",
              "    </tr>\n",
              "    <tr>\n",
              "      <th>11</th>\n",
              "      <td>10.0</td>\n",
              "      <td>This is probably the best game I ever played. ...</td>\n",
              "    </tr>\n",
              "    <tr>\n",
              "      <th>16</th>\n",
              "      <td>10.0</td>\n",
              "      <td>Fantastic game. Got me hooked on games all ove...</td>\n",
              "    </tr>\n",
              "  </tbody>\n",
              "</table>\n",
              "</div>"
            ],
            "text/plain": [
              "    rating                                            comment\n",
              "2     10.0  Currently, this sits on my list as my favorite...\n",
              "3     10.0  I know it says how many plays, but many, many ...\n",
              "7     10.0           i will never tire of this game.. Awesome\n",
              "11    10.0  This is probably the best game I ever played. ...\n",
              "16    10.0  Fantastic game. Got me hooked on games all ove..."
            ]
          },
          "metadata": {
            "tags": []
          },
          "execution_count": 8
        }
      ]
    },
    {
      "cell_type": "code",
      "metadata": {
        "id": "8saDu5MJYT-C",
        "colab_type": "code",
        "colab": {
          "base_uri": "https://localhost:8080/",
          "height": 204
        },
        "outputId": "1813321f-c66a-47a1-f49f-31f72162c07d"
      },
      "source": [
        "reviews = shuffle(reviews)\n",
        "reviews.head()"
      ],
      "execution_count": 9,
      "outputs": [
        {
          "output_type": "execute_result",
          "data": {
            "text/html": [
              "<div>\n",
              "<style scoped>\n",
              "    .dataframe tbody tr th:only-of-type {\n",
              "        vertical-align: middle;\n",
              "    }\n",
              "\n",
              "    .dataframe tbody tr th {\n",
              "        vertical-align: top;\n",
              "    }\n",
              "\n",
              "    .dataframe thead th {\n",
              "        text-align: right;\n",
              "    }\n",
              "</style>\n",
              "<table border=\"1\" class=\"dataframe\">\n",
              "  <thead>\n",
              "    <tr style=\"text-align: right;\">\n",
              "      <th></th>\n",
              "      <th>rating</th>\n",
              "      <th>comment</th>\n",
              "    </tr>\n",
              "  </thead>\n",
              "  <tbody>\n",
              "    <tr>\n",
              "      <th>7361740</th>\n",
              "      <td>7.5</td>\n",
              "      <td>Fun, thematic twist on the original.</td>\n",
              "    </tr>\n",
              "    <tr>\n",
              "      <th>1537742</th>\n",
              "      <td>7.0</td>\n",
              "      <td>ESSEN 2014</td>\n",
              "    </tr>\n",
              "    <tr>\n",
              "      <th>7835124</th>\n",
              "      <td>6.5</td>\n",
              "      <td>Seemed pretty good... for a pocket size micro ...</td>\n",
              "    </tr>\n",
              "    <tr>\n",
              "      <th>2669846</th>\n",
              "      <td>7.0</td>\n",
              "      <td>Nice game and thoroughly enjoyable, although t...</td>\n",
              "    </tr>\n",
              "    <tr>\n",
              "      <th>1743502</th>\n",
              "      <td>9.0</td>\n",
              "      <td>Very, very clever game.  Needs little space, a...</td>\n",
              "    </tr>\n",
              "  </tbody>\n",
              "</table>\n",
              "</div>"
            ],
            "text/plain": [
              "         rating                                            comment\n",
              "7361740     7.5               Fun, thematic twist on the original.\n",
              "1537742     7.0                                         ESSEN 2014\n",
              "7835124     6.5  Seemed pretty good... for a pocket size micro ...\n",
              "2669846     7.0  Nice game and thoroughly enjoyable, although t...\n",
              "1743502     9.0  Very, very clever game.  Needs little space, a..."
            ]
          },
          "metadata": {
            "tags": []
          },
          "execution_count": 9
        }
      ]
    },
    {
      "cell_type": "markdown",
      "metadata": {
        "id": "jT6qF9S64PT4",
        "colab_type": "text"
      },
      "source": [
        "# Word Segmentation\n",
        "\n",
        "We just claimed word segmentation is a hard problem, but in fact the segmentation part is quite easy! We’ll give a quick overview of the segmentation algorithm which assumes that we can evaluate a segmentation for optimality.\n",
        "\n",
        "First, we note that by an elementary combinatorial argument there are 2^{n-1} segmentations of a word with n letters. To see this, imagine writing a segmentation of “homebuiltairplanes” with vertical bars separating the letters, as in “home | built | ai |  rpla | nes”. The maximum number of vertical bars we could place is one less than the number of letters, and every segmentation can be represented by describing which of the n-1 gaps contain vertical bars and which do not. We can hence count up all segmentations by counting up the number of ways to place the bars. A computer scientist should immediately recognize that these “bars” can represent digits in a binary number, and hence all binary numbers with n-1 digits correspond to valid segmentations, and these range from 0 to 2^{n-1} - 1, giving 2^{n-1} total numbers.\n",
        "\n",
        "\n",
        "# first:\n",
        " we implement the “splitPairs” function, which accepts a string s as input and returns a list containing all possible split pairs (u,v) where s = uv. We achieve this by a simple list comprehension (gotta love list comprehensions!) combined with string slicing\n",
        "# secondly\n",
        "Note that the last entry in this list is crucial, because we may not want to segment the input word at all, and in the following we assume that “splitPairs” returns all of our possible choices of action. Next we define the “segment” function, which computes the optimal segmentation of a given word. In particular, we assume there is a global function called “wordSeqFitness” which reliably computes the fitness of a given sequence of words, with respect to whether or not it’s probably the correct segmentation."
      ]
    },
    {
      "cell_type": "code",
      "metadata": {
        "id": "sH4pCw3XYViz",
        "colab_type": "code",
        "colab": {}
      },
      "source": [
        "def word_segmentation(str):\n",
        "    w = re.sub('[^a-zA-Z]',' ', str).lower().split() # Remove non-alphabetic characters\n",
        "    sw = (nltk.corpus.stopwords.words('english')) # Remove stopwords\n",
        "    wd = [x for x in w if x not in sw]\n",
        "    return wd"
      ],
      "execution_count": 0,
      "outputs": []
    },
    {
      "cell_type": "code",
      "metadata": {
        "id": "bAqvk4VQYXqA",
        "colab_type": "code",
        "colab": {}
      },
      "source": [
        "x = [word_segmentation(r) for r in reviews['comment']]\n",
        "y = [round(r) for r in reviews['rating']]"
      ],
      "execution_count": 0,
      "outputs": []
    },
    {
      "cell_type": "markdown",
      "metadata": {
        "id": "O7krijAy8-F7",
        "colab_type": "text"
      },
      "source": [
        "# Divide Data\n",
        " "
      ]
    },
    {
      "cell_type": "code",
      "metadata": {
        "id": "ZURD0755YZtm",
        "colab_type": "code",
        "colab": {
          "base_uri": "https://localhost:8080/",
          "height": 51
        },
        "outputId": "ca26c0aa-e136-46e4-8355-dcbd2d0e6fce"
      },
      "source": [
        "x_train, y_train, x_test, y_test = x, y, [], []\n",
        "test_size = int(len(x)*0.01)\n",
        "\n",
        "seed(1)\n",
        "\n",
        "for _ in range(test_size):\n",
        "    random_index = randrange(len(x_train))\n",
        "    x_test.append(x_train.pop(random_index))\n",
        "    y_test.append(y_train.pop(random_index))\n",
        "\n",
        "print('Size of Train Set: ', len(x_train))\n",
        "print('Size of Test Set: ', len(x_test))"
      ],
      "execution_count": 12,
      "outputs": [
        {
          "output_type": "stream",
          "text": [
            "Size of Train Set:  2611379\n",
            "Size of Test Set:  26377\n"
          ],
          "name": "stdout"
        }
      ]
    },
    {
      "cell_type": "markdown",
      "metadata": {
        "id": "zTsVK0pL-ejV",
        "colab_type": "text"
      },
      "source": [
        "# Text Feature Extraction\n",
        "\n",
        "n a large text corpus, some words will be very present (e.g. “the”, “a”, “is” in English) hence carrying very little meaningful information about the actual contents of the document. If we were to feed the direct count data directly to a classifier those very frequent terms would shadow the frequencies of rarer yet more interesting terms.\n",
        "\n",
        "In order to re-weight the count features into floating point values suitable for usage by a classifier it is very common to use the tf–idf transform.\n",
        "\n",
        "Tf means term-frequency while tf–idf means term-frequency times inverse document-frequency:\n",
        "tf-idf(t,d) = tf(t,d) * idf(t)\n",
        "\n",
        "\n",
        "Using the TfidfTransformer’s default settings, TfidfTransformer(norm='l2', use_idf=True, smooth_idf=True, sublinear_tf=False) the term frequency, the number of times a term occurs in a given document, is multiplied with idf component, which is computed as\n",
        "idf(t) = log(1+n/1+df(t)) +1\n",
        "\n",
        "where n is the total number of documents in the document set, and   df(t) is the number of documents in the document set that contain term . The resulting tf-idf vectors are then normalized by the Euclidean norm.\n",
        "\n",
        "The following sections contain further explanations and examples that illustrate how the tf-idfs are computed exactly and how the tf-idfs computed in scikit-learn’s TfidfTransformer and TfidfVectorizer differ slightly from the standard textbook notation that defines the idf as\n",
        "idf(t) = log(n/1+df(t))\n",
        "\n",
        "In the TfidfTransformer and TfidfVectorizer with smooth_idf=False, the “1” count is added to the idf instead of the idf’s denominator:\n",
        "\n",
        "idf(t) = log(n/df(t)) +1\n",
        "\n",
        "\n",
        "\n"
      ]
    },
    {
      "cell_type": "code",
      "metadata": {
        "id": "G7tQfzLeYb5X",
        "colab_type": "code",
        "colab": {}
      },
      "source": [
        "# Get all the words in the training set non-repeatedly and record the index of each word\n",
        "words_index_dict = dict()\n",
        "index = 0\n",
        "for rating in x_train:\n",
        "    for word in rating:\n",
        "        if word not in words_index_dict:\n",
        "            words_index_dict[word]=index\n",
        "            index+=1"
      ],
      "execution_count": 0,
      "outputs": []
    },
    {
      "cell_type": "code",
      "metadata": {
        "id": "h7y_RniJYeZB",
        "colab_type": "code",
        "colab": {}
      },
      "source": [
        "tf={}\n",
        "idf = [0 for _ in range(len(words_index_dict))]\n",
        "for review_index, review in enumerate(x_train):\n",
        "    review_counts = pd.value_counts(review)\n",
        "    for word_index, word in enumerate(review):\n",
        "        if word in words_index_dict:\n",
        "            tf[(review_index,words_index_dict[word])] = review_counts[word]/len(review)\n",
        "            idf[words_index_dict[word]]+=1\n",
        "\n",
        "idf = [log(len(x_train)/(cont+1)) for cont in idf]"
      ],
      "execution_count": 0,
      "outputs": []
    },
    {
      "cell_type": "markdown",
      "metadata": {
        "id": "trWVlnhe-njT",
        "colab_type": "text"
      },
      "source": [
        "# Algorithms\n",
        "\n",
        "Naive Bayes Classifier. Naive Bayes is a kind of classifier which uses the Bayes Theorem. It predicts membership probabilities for each class such as the probability that given record or data point belongs to a particular class. The class with the highest probability is considered as the most likely class.\n",
        "\n",
        "\n",
        "![alt text](https://www.analyticsvidhya.com/wp-content/uploads/2015/09/Bayes_rule-300x172-300x172.png)\n",
        "\n",
        "# Naive Bayes Classifier – Example\n",
        "\n",
        "Because it is a supervied learning algorithm, we have a dataset with samples and labels accordingly. First, Naive Bayes Classifier calculates the probability of the classes. What does it mean exactly? Calculating that if we choose a random sample, what is the probability it belongs to a given class?\n",
        "\n",
        "![alt text](https://www.globalsoftwaresupport.com/wp-content/uploads/2018/02/naivebayes7.png)\n",
        "\n",
        "\n",
        "\n",
        "After the training procedure we want to classify the new sample (circle with question mark). Then we have to consider the neighborhood of that sample. We can make predictions based on Bayes theorem.\n",
        "![alt text](https://www.globalsoftwaresupport.com/wp-content/uploads/2018/02/naivebayes8.png)"
      ]
    },
    {
      "cell_type": "markdown",
      "metadata": {
        "id": "LRMv5rx2VpP2",
        "colab_type": "text"
      },
      "source": [
        ""
      ]
    },
    {
      "cell_type": "code",
      "metadata": {
        "id": "pqj6XrokhfDy",
        "colab_type": "code",
        "colab": {}
      },
      "source": [
        "class Naive_Bayes:\n",
        "    def __init__(self, data):\n",
        "        self.d = data.iloc[:, 1:]\n",
        "        self.headers = self.d.columns.values.tolist()\n",
        "        self.prior = np.zeros(len(self.d['Class'].unique()))\n",
        "        self.conditional = {}\n",
        "    \n",
        "    def build(self):\n",
        "        y_unique = self.d['Class'].unique()\n",
        "        for i in range(0,len(y_unique)):\n",
        "            self.prior[i]=(sum(self.d['Class']==y_unique[i])+1)/(len(self.d['Class'])+len(y_unique))\n",
        "            \n",
        "        for h in self.headers[:-1]:\n",
        "            x_unique = list(set(self.d[h]))\n",
        "            x_conditional = np.zeros((len(self.d['Class'].unique()),len(set(self.d[h]))))\n",
        "            for j in range(0,len(y_unique)):\n",
        "                for k in range(0,len(x_unique)):\n",
        "                    x_conditional[j,k]=(self.d.loc[(self.d[h]==x_unique[k])&(self.d['Class']==y_unique[j]),].shape[0]+1)/(sum(self.d['Class']==y_unique[j])+len(x_unique))\n",
        "        \n",
        "            x_conditional = pd.DataFrame(x_conditional,columns=x_unique,index=y_unique)   \n",
        "            self.conditional[h] = x_conditional       \n",
        "        return self.prior, self.conditional\n",
        "    \n",
        "    def predict(self, X):\n",
        "        classes = self.d['Class'].unique()\n",
        "        ans = []\n",
        "        for sample in X:\n",
        "            prob = []\n",
        "            for i in range(len(self.prior)):\n",
        "                p_i = self.prior[i]\n",
        "                for j, h in enumerate(self.headers[:-1]):\n",
        "                    p_i *= self.conditional[h][sample[j]][i]\n",
        "                prob.append(p_i)\n",
        "            ans.append(classes[np.argmax(prob)])\n",
        "        return ans"
      ],
      "execution_count": 0,
      "outputs": []
    },
    {
      "cell_type": "markdown",
      "metadata": {
        "id": "yQCWxLJfYgTf",
        "colab_type": "text"
      },
      "source": [
        "for key in tf:\n",
        "    tf[key]*=idf[key[1]]\n",
        "    tfidf=dict()\n",
        "for rating in range(11):\n",
        "    tfidf[rating]=[0 for _ in range(len(words_index_dict))]\n",
        "for key, value in tf.items():\n",
        "    label = y_train[key[0]]\n",
        "    word_index = key[1]\n",
        "    tfidf[label][word_index]+=value\n",
        "for i in range(len(tfidf)):\n",
        "    row_sum = sum(tfidf[i])\n",
        "    tfidf[i]=[x/row_sum for x in tfidf[i]]\n"
      ]
    },
    {
      "cell_type": "code",
      "metadata": {
        "id": "XuWaZmwdYs-r",
        "colab_type": "code",
        "colab": {}
      },
      "source": [
        "label_count = [0 for _ in range(11)] + [len(x_train)]\n",
        "for rating in y_train:\n",
        "    label_count[rating]+=1"
      ],
      "execution_count": 0,
      "outputs": []
    },
    {
      "cell_type": "code",
      "metadata": {
        "id": "2ra0QTBxYuzX",
        "colab_type": "code",
        "colab": {}
      },
      "source": [
        "def count_value(list):\n",
        "    value_count=dict()\n",
        "    for x in list:\n",
        "        if x not in value_count:\n",
        "            value_count[x]=0\n",
        "        value_count[x]+=1\n",
        "    return value_count\n",
        "\n",
        "def predict(review):\n",
        "    probability = []\n",
        "    words_in_review_set = set(review)\n",
        "    words_counts = count_value(review)\n",
        "    for label in range(11):\n",
        "        prob = 0\n",
        "        for word in words_in_review_set:\n",
        "            if word not in words_index_dict:\n",
        "                continue\n",
        "            prob+=log(tfidf[label][words_index_dict[word]]*words_counts[word]+1)\n",
        "        prob *= label_count[label]/label_count[-1]\n",
        "        probability.append(prob)\n",
        "    return probability.index(max(probability))"
      ],
      "execution_count": 0,
      "outputs": []
    },
    {
      "cell_type": "code",
      "metadata": {
        "id": "KGXhsA2nY1wR",
        "colab_type": "code",
        "colab": {
          "base_uri": "https://localhost:8080/",
          "height": 34
        },
        "outputId": "3f500f98-f2d6-4969-e105-2da8ff29fc82"
      },
      "source": [
        "correct = 0\n",
        "for i in range(len(x_test)):\n",
        "    ans = predict(x_test[i])\n",
        "    print(ans)\n",
        "    if predict(x_test[i]) == y_test[i]:\n",
        "        correct+=1\n",
        "accuracy = correct/len(x_test)\n",
        "print(\"Accuracy = \", accuracy)"
      ],
      "execution_count": 20,
      "outputs": [
        {
          "output_type": "stream",
          "text": [
            "Accuracy =  0.2648519543541722\n"
          ],
          "name": "stdout"
        }
      ]
    },
    {
      "cell_type": "markdown",
      "metadata": {
        "id": "uNK_3blx5dKO",
        "colab_type": "text"
      },
      "source": [
        "# Reference\n",
        "https://scikit-learn.org/stable/modules/feature_extraction.html#text-feature-extraction\n",
        "\n",
        "https://jeremykun.com/2012/01/15/word-segmentation/\n",
        "\n",
        "\n",
        "\n",
        "> \n",
        "\n"
      ]
    },
    {
      "cell_type": "markdown",
      "metadata": {
        "id": "-bxsUnybCCTo",
        "colab_type": "text"
      },
      "source": [
        ""
      ]
    }
  ]
}