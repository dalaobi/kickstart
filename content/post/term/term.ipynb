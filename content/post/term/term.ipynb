{
 "cells": [
  {
   "cell_type": "markdown",
   "metadata": {
    "colab_type": "text",
    "id": "XH3vfalNVr3M"
   },
   "source": [
    "# Readme\n",
    "i didn't done this on the github, because i just push it to colab.\n",
    "and u can just open the link to run the whole project \n",
    "https://colab.research.google.com/drive/1sdzln9IUD7AUtkxJ1U5SPrgQbP9mhOWC#scrollTo=XH3vfalNVr3M\n",
    "\n",
    "and all you have to do is open this link, and upload the dataset. \n",
    "then run all the code. \n",
    "\n"
   ]
  },
  {
   "cell_type": "code",
   "execution_count": 1,
   "metadata": {
    "colab": {
     "base_uri": "https://localhost:8080/",
     "height": 68
    },
    "colab_type": "code",
    "id": "1PDttl4HYI3p",
    "outputId": "7077c68c-e827-4a5e-b78c-eabc79cb3f26"
   },
   "outputs": [
    {
     "name": "stdout",
     "output_type": "stream",
     "text": [
      "[nltk_data] Downloading package stopwords to /root/nltk_data...\n",
      "[nltk_data]   Unzipping corpora/stopwords.zip.\n"
     ]
    },
    {
     "data": {
      "text/plain": [
       "True"
      ]
     },
     "execution_count": 1,
     "metadata": {
      "tags": []
     },
     "output_type": "execute_result"
    }
   ],
   "source": [
    "import json\n",
    "import re\n",
    "from random import seed, randrange\n",
    "from math import log\n",
    "from sklearn.utils import shuffle\n",
    "import pandas as pd\n",
    "from nltk.corpus import stopwords\n",
    "from csv import reader\n",
    "from sklearn.model_selection import train_test_split\n",
    "\n",
    "import nltk\n",
    "nltk.download(\"stopwords\")"
   ]
  },
  {
   "cell_type": "code",
   "execution_count": 0,
   "metadata": {
    "colab": {},
    "colab_type": "code",
    "id": "IkgatNm2WQ7H"
   },
   "outputs": [],
   "source": [
    "\n"
   ]
  },
  {
   "cell_type": "markdown",
   "metadata": {
    "colab_type": "text",
    "id": "jvYMq__B2FBG"
   },
   "source": [
    "**import the data set**\n",
    "\n",
    "```\n",
    "```\n",
    "\n"
   ]
  },
  {
   "cell_type": "code",
   "execution_count": 2,
   "metadata": {
    "colab": {
     "base_uri": "https://localhost:8080/",
     "height": 258
    },
    "colab_type": "code",
    "id": "X_FEt8LKYNhh",
    "outputId": "30c8ae55-f5a5-473c-f376-98609cdcfc08"
   },
   "outputs": [
    {
     "name": "stderr",
     "output_type": "stream",
     "text": [
      "/usr/local/lib/python3.6/dist-packages/numpy/lib/arraysetops.py:569: FutureWarning: elementwise comparison failed; returning scalar instead, but in the future will perform elementwise comparison\n",
      "  mask |= (ar1 == a)\n"
     ]
    },
    {
     "data": {
      "text/html": [
       "<div>\n",
       "<style scoped>\n",
       "    .dataframe tbody tr th:only-of-type {\n",
       "        vertical-align: middle;\n",
       "    }\n",
       "\n",
       "    .dataframe tbody tr th {\n",
       "        vertical-align: top;\n",
       "    }\n",
       "\n",
       "    .dataframe thead th {\n",
       "        text-align: right;\n",
       "    }\n",
       "</style>\n",
       "<table border=\"1\" class=\"dataframe\">\n",
       "  <thead>\n",
       "    <tr style=\"text-align: right;\">\n",
       "      <th></th>\n",
       "      <th>user</th>\n",
       "      <th>rating</th>\n",
       "      <th>comment</th>\n",
       "      <th>ID</th>\n",
       "      <th>name</th>\n",
       "    </tr>\n",
       "  </thead>\n",
       "  <tbody>\n",
       "    <tr>\n",
       "      <th>0</th>\n",
       "      <td>sidehacker</td>\n",
       "      <td>10.0</td>\n",
       "      <td>NaN</td>\n",
       "      <td>13</td>\n",
       "      <td>Catan</td>\n",
       "    </tr>\n",
       "    <tr>\n",
       "      <th>1</th>\n",
       "      <td>Varthlokkur</td>\n",
       "      <td>10.0</td>\n",
       "      <td>NaN</td>\n",
       "      <td>13</td>\n",
       "      <td>Catan</td>\n",
       "    </tr>\n",
       "    <tr>\n",
       "      <th>2</th>\n",
       "      <td>dougthonus</td>\n",
       "      <td>10.0</td>\n",
       "      <td>Currently, this sits on my list as my favorite...</td>\n",
       "      <td>13</td>\n",
       "      <td>Catan</td>\n",
       "    </tr>\n",
       "    <tr>\n",
       "      <th>3</th>\n",
       "      <td>cypar7</td>\n",
       "      <td>10.0</td>\n",
       "      <td>I know it says how many plays, but many, many ...</td>\n",
       "      <td>13</td>\n",
       "      <td>Catan</td>\n",
       "    </tr>\n",
       "    <tr>\n",
       "      <th>4</th>\n",
       "      <td>ssmooth</td>\n",
       "      <td>10.0</td>\n",
       "      <td>NaN</td>\n",
       "      <td>13</td>\n",
       "      <td>Catan</td>\n",
       "    </tr>\n",
       "  </tbody>\n",
       "</table>\n",
       "</div>"
      ],
      "text/plain": [
       "          user  rating  ...  ID   name\n",
       "0   sidehacker    10.0  ...  13  Catan\n",
       "1  Varthlokkur    10.0  ...  13  Catan\n",
       "2   dougthonus    10.0  ...  13  Catan\n",
       "3       cypar7    10.0  ...  13  Catan\n",
       "4      ssmooth    10.0  ...  13  Catan\n",
       "\n",
       "[5 rows x 5 columns]"
      ]
     },
     "execution_count": 2,
     "metadata": {
      "tags": []
     },
     "output_type": "execute_result"
    }
   ],
   "source": [
    "df = pd.read_csv('bgg-13m-reviews.csv',index_col=0)\n",
    "df.head()"
   ]
  },
  {
   "cell_type": "markdown",
   "metadata": {
    "colab_type": "text",
    "id": "IdzkhFpH2Uiz"
   },
   "source": [
    "**Data Preprocessing**"
   ]
  },
  {
   "cell_type": "code",
   "execution_count": 3,
   "metadata": {
    "colab": {
     "base_uri": "https://localhost:8080/",
     "height": 297
    },
    "colab_type": "code",
    "id": "Liu0vzC6YQYj",
    "outputId": "4278e38b-8aed-4bc5-bf12-cb8647f582eb"
   },
   "outputs": [
    {
     "data": {
      "text/html": [
       "<div>\n",
       "<style scoped>\n",
       "    .dataframe tbody tr th:only-of-type {\n",
       "        vertical-align: middle;\n",
       "    }\n",
       "\n",
       "    .dataframe tbody tr th {\n",
       "        vertical-align: top;\n",
       "    }\n",
       "\n",
       "    .dataframe thead th {\n",
       "        text-align: right;\n",
       "    }\n",
       "</style>\n",
       "<table border=\"1\" class=\"dataframe\">\n",
       "  <thead>\n",
       "    <tr style=\"text-align: right;\">\n",
       "      <th></th>\n",
       "      <th>rating</th>\n",
       "      <th>ID</th>\n",
       "    </tr>\n",
       "  </thead>\n",
       "  <tbody>\n",
       "    <tr>\n",
       "      <th>count</th>\n",
       "      <td>2.637756e+06</td>\n",
       "      <td>2.637756e+06</td>\n",
       "    </tr>\n",
       "    <tr>\n",
       "      <th>mean</th>\n",
       "      <td>6.852070e+00</td>\n",
       "      <td>6.693990e+04</td>\n",
       "    </tr>\n",
       "    <tr>\n",
       "      <th>std</th>\n",
       "      <td>1.775769e+00</td>\n",
       "      <td>7.304447e+04</td>\n",
       "    </tr>\n",
       "    <tr>\n",
       "      <th>min</th>\n",
       "      <td>1.401300e-45</td>\n",
       "      <td>1.000000e+00</td>\n",
       "    </tr>\n",
       "    <tr>\n",
       "      <th>25%</th>\n",
       "      <td>6.000000e+00</td>\n",
       "      <td>3.955000e+03</td>\n",
       "    </tr>\n",
       "    <tr>\n",
       "      <th>50%</th>\n",
       "      <td>7.000000e+00</td>\n",
       "      <td>3.126000e+04</td>\n",
       "    </tr>\n",
       "    <tr>\n",
       "      <th>75%</th>\n",
       "      <td>8.000000e+00</td>\n",
       "      <td>1.296220e+05</td>\n",
       "    </tr>\n",
       "    <tr>\n",
       "      <th>max</th>\n",
       "      <td>1.000000e+01</td>\n",
       "      <td>2.724090e+05</td>\n",
       "    </tr>\n",
       "  </tbody>\n",
       "</table>\n",
       "</div>"
      ],
      "text/plain": [
       "             rating            ID\n",
       "count  2.637756e+06  2.637756e+06\n",
       "mean   6.852070e+00  6.693990e+04\n",
       "std    1.775769e+00  7.304447e+04\n",
       "min    1.401300e-45  1.000000e+00\n",
       "25%    6.000000e+00  3.955000e+03\n",
       "50%    7.000000e+00  3.126000e+04\n",
       "75%    8.000000e+00  1.296220e+05\n",
       "max    1.000000e+01  2.724090e+05"
      ]
     },
     "execution_count": 3,
     "metadata": {
      "tags": []
     },
     "output_type": "execute_result"
    }
   ],
   "source": [
    "df = df.dropna()\n",
    "df.describe()"
   ]
  },
  {
   "cell_type": "code",
   "execution_count": 4,
   "metadata": {
    "colab": {
     "base_uri": "https://localhost:8080/",
     "height": 204
    },
    "colab_type": "code",
    "id": "t6Ejg3HCYSZR",
    "outputId": "908c43ee-e940-44b5-f67c-eaa9703f7619"
   },
   "outputs": [
    {
     "data": {
      "text/html": [
       "<div>\n",
       "<style scoped>\n",
       "    .dataframe tbody tr th:only-of-type {\n",
       "        vertical-align: middle;\n",
       "    }\n",
       "\n",
       "    .dataframe tbody tr th {\n",
       "        vertical-align: top;\n",
       "    }\n",
       "\n",
       "    .dataframe thead th {\n",
       "        text-align: right;\n",
       "    }\n",
       "</style>\n",
       "<table border=\"1\" class=\"dataframe\">\n",
       "  <thead>\n",
       "    <tr style=\"text-align: right;\">\n",
       "      <th></th>\n",
       "      <th>rating</th>\n",
       "      <th>comment</th>\n",
       "    </tr>\n",
       "  </thead>\n",
       "  <tbody>\n",
       "    <tr>\n",
       "      <th>2</th>\n",
       "      <td>10.0</td>\n",
       "      <td>Currently, this sits on my list as my favorite...</td>\n",
       "    </tr>\n",
       "    <tr>\n",
       "      <th>3</th>\n",
       "      <td>10.0</td>\n",
       "      <td>I know it says how many plays, but many, many ...</td>\n",
       "    </tr>\n",
       "    <tr>\n",
       "      <th>7</th>\n",
       "      <td>10.0</td>\n",
       "      <td>i will never tire of this game.. Awesome</td>\n",
       "    </tr>\n",
       "    <tr>\n",
       "      <th>11</th>\n",
       "      <td>10.0</td>\n",
       "      <td>This is probably the best game I ever played. ...</td>\n",
       "    </tr>\n",
       "    <tr>\n",
       "      <th>16</th>\n",
       "      <td>10.0</td>\n",
       "      <td>Fantastic game. Got me hooked on games all ove...</td>\n",
       "    </tr>\n",
       "  </tbody>\n",
       "</table>\n",
       "</div>"
      ],
      "text/plain": [
       "    rating                                            comment\n",
       "2     10.0  Currently, this sits on my list as my favorite...\n",
       "3     10.0  I know it says how many plays, but many, many ...\n",
       "7     10.0           i will never tire of this game.. Awesome\n",
       "11    10.0  This is probably the best game I ever played. ...\n",
       "16    10.0  Fantastic game. Got me hooked on games all ove..."
      ]
     },
     "execution_count": 4,
     "metadata": {
      "tags": []
     },
     "output_type": "execute_result"
    }
   ],
   "source": [
    "reviews = df[['rating','comment']]\n",
    "reviews.head()"
   ]
  },
  {
   "cell_type": "code",
   "execution_count": 5,
   "metadata": {
    "colab": {
     "base_uri": "https://localhost:8080/",
     "height": 204
    },
    "colab_type": "code",
    "id": "8saDu5MJYT-C",
    "outputId": "ac3e5657-59cf-4a9b-d9d7-830151d9d709"
   },
   "outputs": [
    {
     "data": {
      "text/html": [
       "<div>\n",
       "<style scoped>\n",
       "    .dataframe tbody tr th:only-of-type {\n",
       "        vertical-align: middle;\n",
       "    }\n",
       "\n",
       "    .dataframe tbody tr th {\n",
       "        vertical-align: top;\n",
       "    }\n",
       "\n",
       "    .dataframe thead th {\n",
       "        text-align: right;\n",
       "    }\n",
       "</style>\n",
       "<table border=\"1\" class=\"dataframe\">\n",
       "  <thead>\n",
       "    <tr style=\"text-align: right;\">\n",
       "      <th></th>\n",
       "      <th>rating</th>\n",
       "      <th>comment</th>\n",
       "    </tr>\n",
       "  </thead>\n",
       "  <tbody>\n",
       "    <tr>\n",
       "      <th>5261560</th>\n",
       "      <td>7.5</td>\n",
       "      <td>Kaja: 7</td>\n",
       "    </tr>\n",
       "    <tr>\n",
       "      <th>2778930</th>\n",
       "      <td>7.0</td>\n",
       "      <td>A resource management game that is very quick ...</td>\n",
       "    </tr>\n",
       "    <tr>\n",
       "      <th>1999683</th>\n",
       "      <td>5.0</td>\n",
       "      <td>The kind of game that would benefit from repea...</td>\n",
       "    </tr>\n",
       "    <tr>\n",
       "      <th>5066461</th>\n",
       "      <td>3.0</td>\n",
       "      <td>I'm not a fan of push your luck, but even if y...</td>\n",
       "    </tr>\n",
       "    <tr>\n",
       "      <th>821235</th>\n",
       "      <td>8.0</td>\n",
       "      <td>Instant hit with both my family and my hardcor...</td>\n",
       "    </tr>\n",
       "  </tbody>\n",
       "</table>\n",
       "</div>"
      ],
      "text/plain": [
       "         rating                                            comment\n",
       "5261560     7.5                                            Kaja: 7\n",
       "2778930     7.0  A resource management game that is very quick ...\n",
       "1999683     5.0  The kind of game that would benefit from repea...\n",
       "5066461     3.0  I'm not a fan of push your luck, but even if y...\n",
       "821235      8.0  Instant hit with both my family and my hardcor..."
      ]
     },
     "execution_count": 5,
     "metadata": {
      "tags": []
     },
     "output_type": "execute_result"
    }
   ],
   "source": [
    "reviews = shuffle(reviews)\n",
    "reviews.head()"
   ]
  },
  {
   "cell_type": "markdown",
   "metadata": {
    "colab_type": "text",
    "id": "jT6qF9S64PT4"
   },
   "source": [
    "# Word Segmentation\n",
    "\n",
    "We just claimed word segmentation is a hard problem, but in fact the segmentation part is quite easy! We’ll give a quick overview of the segmentation algorithm which assumes that we can evaluate a segmentation for optimality.\n",
    "\n",
    "First, we note that by an elementary combinatorial argument there are 2^{n-1} segmentations of a word with n letters. To see this, imagine writing a segmentation of “homebuiltairplanes” with vertical bars separating the letters, as in “home | built | ai |  rpla | nes”. The maximum number of vertical bars we could place is one less than the number of letters, and every segmentation can be represented by describing which of the n-1 gaps contain vertical bars and which do not. We can hence count up all segmentations by counting up the number of ways to place the bars. A computer scientist should immediately recognize that these “bars” can represent digits in a binary number, and hence all binary numbers with n-1 digits correspond to valid segmentations, and these range from 0 to 2^{n-1} - 1, giving 2^{n-1} total numbers.\n",
    "\n",
    "\n",
    "# first:\n",
    " we implement the “splitPairs” function, which accepts a string s as input and returns a list containing all possible split pairs (u,v) where s = uv. We achieve this by a simple list comprehension (gotta love list comprehensions!) combined with string slicing\n",
    "# secondly\n",
    "Note that the last entry in this list is crucial, because we may not want to segment the input word at all, and in the following we assume that “splitPairs” returns all of our possible choices of action. Next we define the “segment” function, which computes the optimal segmentation of a given word. In particular, we assume there is a global function called “wordSeqFitness” which reliably computes the fitness of a given sequence of words, with respect to whether or not it’s probably the correct segmentation."
   ]
  },
  {
   "cell_type": "code",
   "execution_count": 0,
   "metadata": {
    "colab": {},
    "colab_type": "code",
    "id": "sH4pCw3XYViz"
   },
   "outputs": [],
   "source": [
    "\n",
    "with open(data_drict,'r',encoding='utf-8') as f:\n",
    "    row_data = reader(f)\n",
    "    review = []\n",
    "    rate = []\n",
    "    for row in row_data:\n",
    "        if  row[0] != '' and row[3] !='':\n",
    "            rate.append(round(float(row[2])))\n",
    "            content = row[3].lower()\n",
    "            content = content.replace(\"\\r\", \"\").strip()\n",
    "            content = content.replace(\"\\n\", \"\").strip()\n",
    "            content = re.sub(\"[%s]+\"%('.,|?|!|:|;\\\"\\-|#|$|%|&|\\|(|)|*|+|-|/|<|=|>|@|^|`|{|}|~\\[\\]'), \"\", content)\n",
    "            sentence = content.split(' ')\n",
    "            for i in stopwords:\n",
    "                while i in sentence:\n",
    "                    sentence.remove(i)\n",
    "            content = ' '.join(sentence)\n",
    "            review.append(content)\n",
    "\n"
   ]
  },
  {
   "cell_type": "code",
   "execution_count": 0,
   "metadata": {
    "colab": {},
    "colab_type": "code",
    "id": "bAqvk4VQYXqA"
   },
   "outputs": [],
   "source": [
    "x = [review for review in reviews['comment']]\n",
    "y = [round(r) for r in reviews['rating']]"
   ]
  },
  {
   "cell_type": "markdown",
   "metadata": {
    "colab_type": "text",
    "id": "O7krijAy8-F7"
   },
   "source": [
    "# Divide Data\n",
    " "
   ]
  },
  {
   "cell_type": "code",
   "execution_count": 24,
   "metadata": {
    "colab": {
     "base_uri": "https://localhost:8080/",
     "height": 51
    },
    "colab_type": "code",
    "id": "ZURD0755YZtm",
    "outputId": "898f9f63-b5f0-4b17-f426-30397bda1754"
   },
   "outputs": [
    {
     "name": "stdout",
     "output_type": "stream",
     "text": [
      "Size of Train Set:  2611379\n",
      "Size of Test Set:  26377\n"
     ]
    }
   ],
   "source": [
    "x_train, x_test, y_train, y_test = train_test_split(review, rate, test_size=0.3, random_state=0)\n",
    "print('Size of Train Set: ', len(x_train))\n",
    "print('Size of Test Set: ', len(x_test))\n"
   ]
  },
  {
   "cell_type": "markdown",
   "metadata": {
    "colab_type": "text",
    "id": "zTsVK0pL-ejV"
   },
   "source": [
    "# Text Feature Extraction\n",
    "\n",
    "n a large text corpus, some words will be very present (e.g. “the”, “a”, “is” in English) hence carrying very little meaningful information about the actual contents of the document. If we were to feed the direct count data directly to a classifier those very frequent terms would shadow the frequencies of rarer yet more interesting terms.\n",
    "\n",
    "In order to re-weight the count features into floating point values suitable for usage by a classifier it is very common to use the tf–idf transform.\n",
    "\n",
    "Tf means term-frequency while tf–idf means term-frequency times inverse document-frequency:\n",
    "tf-idf(t,d) = tf(t,d) * idf(t)\n",
    "\n",
    "\n",
    "Using the TfidfTransformer’s default settings, TfidfTransformer(norm='l2', use_idf=True, smooth_idf=True, sublinear_tf=False) the term frequency, the number of times a term occurs in a given document, is multiplied with idf component, which is computed as\n",
    "idf(t) = log(1+n/1+df(t)) +1\n",
    "\n",
    "where n is the total number of documents in the document set, and   df(t) is the number of documents in the document set that contain term . The resulting tf-idf vectors are then normalized by the Euclidean norm.\n",
    "\n",
    "The following sections contain further explanations and examples that illustrate how the tf-idfs are computed exactly and how the tf-idfs computed in scikit-learn’s TfidfTransformer and TfidfVectorizer differ slightly from the standard textbook notation that defines the idf as\n",
    "idf(t) = log(n/1+df(t))\n",
    "\n",
    "In the TfidfTransformer and TfidfVectorizer with smooth_idf=False, the “1” count is added to the idf instead of the idf’s denominator:\n",
    "\n",
    "idf(t) = log(n/df(t)) +1\n",
    "\n",
    "\n",
    "\n"
   ]
  },
  {
   "cell_type": "code",
   "execution_count": 0,
   "metadata": {
    "colab": {},
    "colab_type": "code",
    "id": "G7tQfzLeYb5X"
   },
   "outputs": [],
   "source": [
    "# Get all the words in the training set non-repeatedly and record the index of each word\n",
    "\n",
    "words_index_dict = {}\n",
    "index = 0\n",
    "for rating in x_train:\n",
    "    for word in rating:\n",
    "        if word in words_index_dict:\n",
    "          continue\n",
    "        else:\n",
    "            words_index_dict[word]=index\n",
    "            index+=1\n",
    "\n"
   ]
  },
  {
   "cell_type": "code",
   "execution_count": 0,
   "metadata": {
    "colab": {},
    "colab_type": "code",
    "id": "h7y_RniJYeZB"
   },
   "outputs": [],
   "source": [
    "\n",
    "def set_tf(idf):\n",
    "    temp = []\n",
    "    for cont in idf:\n",
    "        temp.append(log(len(x_train)/(cont+1)))\n",
    "    return temp\n",
    "tf={}\n",
    "idf = [0 for _ in range(len(words_index_dict))]\n",
    "for review_index, review in enumerate(x_train):\n",
    "    review_counts = pd.value_counts(review)\n",
    "    for word_index, word in enumerate(review):\n",
    "        if word not in words_index_dict:\n",
    "          continue\n",
    "        else:\n",
    "            tf[(review_index,words_index_dict[word])] = review_counts[word]/len(review)\n",
    "            idf[words_index_dict[word]]+=1\n",
    "idf = set_tf(idf)\n",
    "\n",
    "\n",
    "\n",
    "\n"
   ]
  },
  {
   "cell_type": "markdown",
   "metadata": {
    "colab_type": "text",
    "id": "trWVlnhe-njT"
   },
   "source": [
    "# Algorithms\n",
    "\n",
    "Naive Bayes Classifier. Naive Bayes is a kind of classifier which uses the Bayes Theorem. It predicts membership probabilities for each class such as the probability that given record or data point belongs to a particular class. The class with the highest probability is considered as the most likely class.\n",
    "\n",
    "\n",
    "![alt text](https://www.analyticsvidhya.com/wp-content/uploads/2015/09/Bayes_rule-300x172-300x172.png)\n",
    "\n",
    "# Naive Bayes Classifier – Example\n",
    "\n",
    "Because it is a supervied learning algorithm, we have a dataset with samples and labels accordingly. First, Naive Bayes Classifier calculates the probability of the classes. What does it mean exactly? Calculating that if we choose a random sample, what is the probability it belongs to a given class?\n",
    "\n",
    "![alt text](https://www.globalsoftwaresupport.com/wp-content/uploads/2018/02/naivebayes7.png)\n",
    "\n",
    "\n",
    "\n",
    "After the training procedure we want to classify the new sample (circle with question mark). Then we have to consider the neighborhood of that sample. We can make predictions based on Bayes theorem.\n",
    "![alt text](https://www.globalsoftwaresupport.com/wp-content/uploads/2018/02/naivebayes8.png)"
   ]
  },
  {
   "cell_type": "markdown",
   "metadata": {
    "colab_type": "text",
    "id": "LRMv5rx2VpP2"
   },
   "source": []
  },
  {
   "cell_type": "code",
   "execution_count": 0,
   "metadata": {
    "colab": {},
    "colab_type": "code",
    "id": "pqj6XrokhfDy"
   },
   "outputs": [],
   "source": [
    "class Naive_Bayes:\n",
    "    def __init__(self, data):\n",
    "        self.d = data.iloc[:, 1:]\n",
    "        self.headers = self.d.columns.values.tolist()\n",
    "        self.prior = np.zeros(len(self.d['Class'].unique()))\n",
    "        self.conditional = {}\n",
    "    \n",
    "    def build(self):\n",
    "        y_unique = self.d['Class'].unique()\n",
    "        for i in range(0,len(y_unique)):\n",
    "            self.prior[i]=(sum(self.d['Class']==y_unique[i])+1)/(len(self.d['Class'])+len(y_unique))\n",
    "            \n",
    "        for h in self.headers[:-1]:\n",
    "            x_unique = list(set(self.d[h]))\n",
    "            x_conditional = np.zeros((len(self.d['Class'].unique()),len(set(self.d[h]))))\n",
    "            for j in range(0,len(y_unique)):\n",
    "                for k in range(0,len(x_unique)):\n",
    "                    x_conditional[j,k]=(self.d.loc[(self.d[h]==x_unique[k])&(self.d['Class']==y_unique[j]),].shape[0]+1)/(sum(self.d['Class']==y_unique[j])+len(x_unique))\n",
    "        \n",
    "            x_conditional = pd.DataFrame(x_conditional,columns=x_unique,index=y_unique)   \n",
    "            self.conditional[h] = x_conditional       \n",
    "        return self.prior, self.conditional\n",
    "    \n",
    "    def predict(self, X):\n",
    "        classes = self.d['Class'].unique()\n",
    "        ans = []\n",
    "        for sample in X:\n",
    "            prob = []\n",
    "            for i in range(len(self.prior)):\n",
    "                p_i = self.prior[i]\n",
    "                for j, h in enumerate(self.headers[:-1]):\n",
    "                    p_i *= self.conditional[h][sample[j]][i]\n",
    "                prob.append(p_i)\n",
    "            ans.append(classes[np.argmax(prob)])\n",
    "        return ans"
   ]
  },
  {
   "cell_type": "markdown",
   "metadata": {
    "colab_type": "text",
    "id": "yQCWxLJfYgTf"
   },
   "source": [
    "for key in tf:\n",
    "    tf[key]*=idf[key[1]]\n",
    "    tfidf=dict()\n",
    "for rating in range(11):\n",
    "    tfidf[rating]=[0 for _ in range(len(words_index_dict))]\n",
    "for key, value in tf.items():\n",
    "    label = y_train[key[0]]\n",
    "    word_index = key[1]\n",
    "    tfidf[label][word_index]+=value\n",
    "for i in range(len(tfidf)):\n",
    "    row_sum = sum(tfidf[i])\n",
    "    tfidf[i]=[x/row_sum for x in tfidf[i]]\n"
   ]
  },
  {
   "cell_type": "code",
   "execution_count": 0,
   "metadata": {
    "colab": {},
    "colab_type": "code",
    "id": "XuWaZmwdYs-r"
   },
   "outputs": [],
   "source": [
    "label_count = [0 for _ in range(11)] + [len(x_train)]\n",
    "for rating in y_train:\n",
    "    label_count[rating]+=1"
   ]
  },
  {
   "cell_type": "code",
   "execution_count": 0,
   "metadata": {
    "colab": {},
    "colab_type": "code",
    "id": "2ra0QTBxYuzX"
   },
   "outputs": [],
   "source": [
    "nb = Naive_Bayes()\n"
   ]
  },
  {
   "cell_type": "code",
   "execution_count": 0,
   "metadata": {
    "colab": {},
    "colab_type": "code",
    "id": "KGXhsA2nY1wR"
   },
   "outputs": [],
   "source": [
    "\n",
    "accuracy = sum([nb.predict(x_test[i]) == y_test[i] for i in range((len(x_test)))])/len(x_test)\n",
    "print(\"Accuracy of Test set is:\", accuracy)"
   ]
  },
  {
   "cell_type": "markdown",
   "metadata": {
    "colab_type": "text",
    "id": "uNK_3blx5dKO"
   },
   "source": [
    "# Reference\n",
    "https://scikit-learn.org/stable/modules/feature_extraction.html#text-feature-extraction\n",
    "\n",
    "https://jeremykun.com/2012/01/15/word-segmentation/\n",
    "\n",
    "\n",
    "\n",
    "> \n",
    "\n"
   ]
  },
  {
   "cell_type": "markdown",
   "metadata": {
    "colab_type": "text",
    "id": "-bxsUnybCCTo"
   },
   "source": []
  }
 ],
 "metadata": {
  "colab": {
   "collapsed_sections": [],
   "machine_shape": "hm",
   "name": "term.ipynb",
   "provenance": []
  },
  "kernelspec": {
   "display_name": "Python 3",
   "language": "python",
   "name": "python3"
  },
  "language_info": {
   "codemirror_mode": {
    "name": "ipython",
    "version": 3
   },
   "file_extension": ".py",
   "mimetype": "text/x-python",
   "name": "python",
   "nbconvert_exporter": "python",
   "pygments_lexer": "ipython3",
   "version": "3.7.7"
  }
 },
 "nbformat": 4,
 "nbformat_minor": 1
}
