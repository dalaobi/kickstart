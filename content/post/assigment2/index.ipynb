{
 "cells": [
  {
   "cell_type": "code",
   "execution_count": 11,
   "metadata": {},
   "outputs": [],
   "source": [
    "class Vector:\n",
    "    def __init__(self, *nums):\n",
    "        self.nums = nums\n",
    "\n",
    "    def __str__(self):\n",
    "        return \"{}\".format(self.nums)\n",
    "\n",
    "    def __add__(self, other):\n",
    "        return Vector(*[c1 + c2 for c1, c2 in zip(self.nums, other.nums)])\n",
    "\n",
    "    def dot(self, other):\n",
    "        return sum((c1 * c2 for c1, c2 in zip(self.nums, other.nums)))\n",
    "\n",
    "    def scale(self, scalar):\n",
    "        return Vector(*[n * scalar for n in self.nums])\n",
    "\n",
    "    def norm(self):\n",
    "        return self.dot(self) ** 0.5"
   ]
  },
  {
   "cell_type": "code",
   "execution_count": 12,
   "metadata": {},
   "outputs": [],
   "source": [
    "from collections import Counter\n",
    "\n",
    "\n",
    "class Knn:\n",
    "    def __init__(self):\n",
    "        self.vectors = []\n",
    "        self.species = []\n",
    "\n",
    "    def train(self, vector, species):\n",
    "        self.vectors.append(vector)\n",
    "        self.species.append(species)\n",
    "\n",
    "    def predict(self, vector, k):\n",
    "        lengths = [(vector.scale(-1) + v).norm() for v in self.vectors]\n",
    "        lenspec = [(length, self.species[i]) for i, length in enumerate(lengths)]\n",
    "        tuples = sorted(lenspec, key=lambda t: t[0])[:k]\n",
    "        species = [t[1] for t in tuples]\n",
    "        counter = Counter(species)\n",
    "        return counter.most_common(1)[0][0]\n"
   ]
  },
  {
   "cell_type": "code",
   "execution_count": 22,
   "metadata": {},
   "outputs": [
    {
     "name": "stdout",
     "output_type": "stream",
     "text": [
      "accuracy k=1: 1.0\n",
      "accuracy k=3: 0.9558823529411765\n",
      "accuracy k=5: 0.9705882352941176\n",
      "accuracy k=7: 0.9705882352941176\n"
     ]
    }
   ],
   "source": [
    "model = Knn()\n",
    "dev_acc = []\n",
    "\n",
    "experiments = []\n",
    "with open('data/train.csv') as f:\n",
    "    for line in f:\n",
    "        data = line.strip().split(',')\n",
    "        vector = Vector(*map(float, data[:4]))\n",
    "        species = data[-1]\n",
    "        model.train(vector, species)\n",
    "\n",
    "experiments = []\n",
    "with open('data/train.csv') as f:\n",
    "    for line in f:\n",
    "        data = line.strip().split(',')\n",
    "        vector = Vector(*map(float, data[:4]))\n",
    "        species = data[-1]\n",
    "        prediction = model.predict(vector, 1)\n",
    "        experiments.append(species == prediction)\n",
    "\n",
    "accuracy = sum(experiments) / len(experiments)\n",
    "dev_acc.append(accuracy)\n",
    "print('accuracy k=1:', accuracy)\n",
    "\n",
    "experiments = []\n",
    "with open('data/train.csv') as f:\n",
    "    for line in f:\n",
    "        data = line.strip().split(',')\n",
    "        vector = Vector(*map(float, data[:4]))\n",
    "        species = data[-1]\n",
    "        prediction = model.predict(vector, 3)\n",
    "        experiments.append(species == prediction)\n",
    "\n",
    "accuracy = sum(experiments) / len(experiments)\n",
    "dev_acc.append(accuracy)\n",
    "print('accuracy k=3:', accuracy)\n",
    "\n",
    "experiments = []\n",
    "with open('data/train.csv') as f:\n",
    "    for line in f:\n",
    "        data = line.strip().split(',')\n",
    "        vector = Vector(*map(float, data[:4]))\n",
    "        species = data[-1]\n",
    "        prediction = model.predict(vector, 5)\n",
    "        experiments.append(species == prediction)\n",
    "\n",
    "accuracy = sum(experiments) / len(experiments)\n",
    "dev_acc.append(accuracy)\n",
    "print('accuracy k=5:', accuracy)\n",
    "\n",
    "experiments = []\n",
    "with open('data/train.csv') as f:\n",
    "    for line in f:\n",
    "        data = line.strip().split(',')\n",
    "        vector = Vector(*map(float, data[:4]))\n",
    "        species = data[-1]\n",
    "        prediction = model.predict(vector, 7)\n",
    "        experiments.append(species == prediction)\n",
    "\n",
    "accuracy = sum(experiments) / len(experiments)\n",
    "dev_acc.append(accuracy)\n",
    "print('accuracy k=7:', accuracy)"
   ]
  },
  {
   "cell_type": "code",
   "execution_count": 23,
   "metadata": {},
   "outputs": [
    {
     "name": "stdout",
     "output_type": "stream",
     "text": [
      "accuracy with best parameters k=1: 1.0\n"
     ]
    }
   ],
   "source": [
    "experiments = []\n",
    "with open('data/test.csv') as f:\n",
    "    for line in f:\n",
    "        data = line.strip().split(',')\n",
    "        vector = Vector(*map(float, data[:4]))\n",
    "        species = data[-1]\n",
    "        prediction = model.predict(vector, 1)\n",
    "        experiments.append(species == prediction)\n",
    "\n",
    "accuracy = sum(experiments) / len(experiments)\n",
    "print('accuracy with best parameters k=1:', accuracy)"
   ]
  },
  {
   "cell_type": "code",
   "execution_count": 27,
   "metadata": {},
   "outputs": [
    {
     "name": "stdout",
     "output_type": "stream",
     "text": [
      "[1.0, 0.9558823529411765, 0.9705882352941176, 0.9705882352941176, 1.0, 1.0, 1.0]\n"
     ]
    },
    {
     "data": {
      "image/png": "[encoded data removed]",
      "text/plain": [
       "<Figure size 432x288 with 1 Axes>"
      ]
     },
     "metadata": {
      "needs_background": "light"
     },
     "output_type": "display_data"
    }
   ],
   "source": [
    "import matplotlib.pyplot as plt\n",
    "print(l)\n",
    "# List to hold x values.\n",
    "x_number_values = [1, 2, 3, 4]\n",
    "\n",
    "# List to hold y values.\n",
    "y_number_values = dev_acc\n",
    "\n",
    "# Plot the number in the list and set the line thickness.\n",
    "plt.bar(x_number_values, y_number_values)\n",
    "\n",
    "# Set the line chart title and the text font size.\n",
    "plt.title(\"Square Numbers\", fontsize=19)\n",
    "\n",
    "# Set x axes label.\n",
    "plt.xlabel(\"Number Value\", fontsize=10)\n",
    "\n",
    "# Set y axes label.\n",
    "plt.ylabel(\"Square of Number\", fontsize=10)\n",
    "\n",
    "# Set the x, y axis tick marks text size.\n",
    "plt.tick_params(axis='both', labelsize=9)\n",
    "\n",
    "# Display the plot in the matplotlib's viewer.\n",
    "plt.show()"
   ]
  },
  {
   "cell_type": "code",
   "execution_count": null,
   "metadata": {},
   "outputs": [],
   "source": []
  },
  {
   "cell_type": "code",
   "execution_count": null,
   "metadata": {},
   "outputs": [],
   "source": []
  }
 ],
 "metadata": {
  "kernelspec": {
   "display_name": "Python 3",
   "language": "python",
   "name": "python3"
  },
  "language_info": {
   "codemirror_mode": {
    "name": "ipython",
    "version": 3
   },
   "file_extension": ".py",
   "mimetype": "text/x-python",
   "name": "python",
   "nbconvert_exporter": "python",
   "pygments_lexer": "ipython3",
   "version": "3.7.6"
  }
 },
 "nbformat": 4,
 "nbformat_minor": 4
}
