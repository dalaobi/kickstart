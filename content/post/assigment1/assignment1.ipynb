{
  "nbformat": 4,
  "nbformat_minor": 0,
  "metadata": {
    "colab": {
      "name": "assignment1.ipynb",
      "provenance": []
    },
    "kernelspec": {
      "name": "python3",
      "display_name": "Python 3"
    }
  },
  "cells": [
    {
      "cell_type": "code",
      "metadata": {
        "id": "KqApizUycbBv",
        "colab_type": "code",
        "colab": {}
      },
      "source": [
        "import matplotlib\n",
        "# matplotlib.use(\"agg\")\n",
        "import matplotlib.pyplot as plt\n",
        "import itertools\n",
        "import functools\n",
        "import numpy as np\n",
        "import pylab\n",
        "from sklearn.metrics import mean_squared_error\n",
        "\n",
        "def plot(X_train, y_train, X_true, y_true):\n",
        "    plt.scatter(X_train, y_train, label='train data')\n",
        "    plt.plot(X_true, y_true, c='g', label='ground truth')\n",
        "    plt.title('Figure 1.2')\n",
        "    plt.ylabel('Y axis ')\n",
        "    plt.xlabel('X axis')\n",
        "    plt.legend()\n",
        "    plt.show()\n",
        "\n",
        "def genDummy(start, end, nums, std):\n",
        "    X = np.linspace(start, end, nums)\n",
        "    sinusoid = np.sin(X*2*np.pi)\n",
        "    noise = np.random.normal(scale=std,size=nums)\n",
        "    y = sinusoid+noise\n",
        "    return X, y\n",
        "\n",
        "def rmse(x, y):\n",
        "    return np.sqrt(mean_squared_error(x, y))\n",
        "\n",
        "class FeatureFormation():\n",
        "    def __init__(self, degree=2):\n",
        "        assert isinstance(degree, int)\n",
        "        self.degree = degree\n",
        "\n",
        "    def transform(self, x):\n",
        "        if x.ndim == 1:\n",
        "            x = x[:, None]\n",
        "        x_t = x.transpose()\n",
        "        features = [np.ones(len(x))]\n",
        "        for degree in range(1, self.degree + 1):\n",
        "            for items in itertools.combinations_with_replacement(x_t, degree):\n",
        "                features.append(functools.reduce(lambda x, y: x * y, items))\n",
        "        return np.asarray(features).transpose()\n",
        "    \n",
        "class LinearRegression():\n",
        "    def fit(self, X, t):\n",
        "        self.w = np.linalg.pinv(X)@t\n",
        "        self.var = np.mean(np.square(X@self.w-t))\n",
        "\n",
        "    def predict(self, X):\n",
        "        y = X @ self.w\n",
        "        return y\n",
        "    \n",
        "class RidgeRegression():\n",
        "    def __init__(self, alpha):\n",
        "        self.alpha = alpha\n",
        "\n",
        "    def fit(self, X, t):\n",
        "        eye = np.eye(np.size(X, 1))\n",
        "        self.w = np.linalg.solve(self.alpha * eye + X.T @ X, X.T @ t)\n",
        "\n",
        "    def predict(self, X):\n",
        "        return X @ self.w"
      ],
      "execution_count": 0,
      "outputs": []
    },
    {
      "cell_type": "code",
      "metadata": {
        "id": "W1N3NukKcOP_",
        "colab_type": "code",
        "colab": {
          "base_uri": "https://localhost:8080/",
          "height": 111
        },
        "outputId": "1714f53c-3e7e-413e-8ccf-11bd117d7681"
      },
      "source": [
        "#from misc import *\n",
        "\n",
        "x_train, y_train = genDummy(0, 1, 10, 0.1)\n",
        "x_test = np.linspace(0, 1, 1000)\n",
        "y_test = np.sin(2*np.pi*x_test)\n",
        "\n",
        "#for i, degree in enumerate([0,1,3,9]):\n",
        "for i, degree in enumerate([0, 1, 3, 9]):\n",
        "    plt.subplot(4, 4, i+1)\n",
        "    feature = FeatureFormation(degree)\n",
        "    X_train = feature.transform(x_train)\n",
        "    X_test = feature.transform(x_test)\n",
        "\n",
        "    model = LinearRegression()\n",
        "    model.fit(X_train, y_train)\n",
        "    y = model.predict(X_test)\n",
        "    \n",
        "    plt.title(\"M: \"+str(degree))\n",
        "    plt.scatter(x_train, y_train, facecolor=\"none\", edgecolor=\"b\", s=50, label=\"training data\")\n",
        "    plt.plot(x_test, y_test, c=\"g\", label=\"$\\sin(2\\pi x)$\")\n",
        "    plt.plot(x_test, y, c=\"r\", label=\"fitting\")\n",
        "    plt.ylim(-1.5, 1.5)\n",
        "    plt.annotate(\"M={}\".format(degree), xy=(-0.15, 1))\n",
        "plt.show()"
      ],
      "execution_count": 7,
      "outputs": [
        {
          "output_type": "display_data",
          "data": {
            "image/png": "[encoded data removed]",
            "text/plain": [
              "<Figure size 432x288 with 4 Axes>"
            ]
          },
          "metadata": {
            "tags": [],
            "needs_background": "light"
          }
        }
      ]
    }
  ]
}